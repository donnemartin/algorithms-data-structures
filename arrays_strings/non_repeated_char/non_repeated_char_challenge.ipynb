{
 "cells": [
  {
   "cell_type": "markdown",
   "metadata": {},
   "source": [
    "# Challenge Notebook\n",
    "\n",
    "\n",
    "## Problem: Implement an algorithm to find the first non-repeated character in a string\n",
    "\n",
    "* [Constraints](#Constraints)\n",
    "* [Test Cases](#Test-Cases)\n",
    "* [Algorithm](#Algorithm)\n",
    "* [Code](#Code)\n",
    "* [Unit Test](#Unit-Test)\n",
    "* [Solution Notebook](#Solution-Notebook)"
   ]
  },
  {
   "cell_type": "markdown",
   "metadata": {},
   "source": [
    "## Constraints\n",
    "\n",
    "* Can we assume the string is ASCII\n",
    "    * Yes\n",
    "\n",
    "* Can we assume this is case sensitive\n",
    "    * Yes\n",
    "\n",
    "* Can we use additional data structures?\n",
    "    * Yes\n",
    "\n",
    "* Can we assume this fits in memory?\n",
    "    * Yes"
   ]
  },
  {
   "cell_type": "markdown",
   "metadata": {},
   "source": [
    "## Test Cases\n",
    "\n",
    "* Input:- None\n",
    "\n",
    "    Output:- \"\"\n",
    "\n",
    "\n",
    "* Input:- \"a\"\n",
    "\n",
    "    Output:- \"a\"\n",
    "\n",
    "\n",
    "* Input:- \"absfasxv\"\n",
    "\n",
    "    Output:- \"b\"\n",
    "\n",
    "\n",
    "* Input:- \"\"\n",
    "\n",
    "    Output:- \"\""
   ]
  },
  {
   "cell_type": "markdown",
   "metadata": {},
   "source": [
    "## Algorithm\n",
    "\n",
    "Refer to the [Solution Notebook](https://github.com). If you are stuck and need a hint, the solution notebook's algorithm discussion discussion might be a good place to start."
   ]
  },
  {
   "cell_type": "markdown",
   "metadata": {},
   "source": [
    "## Code"
   ]
  },
  {
   "cell_type": "code",
   "execution_count": 2,
   "metadata": {},
   "outputs": [],
   "source": [
    "class NonRepeatedChar(object):\n",
    "    def non_repeated_char(self, string):\n",
    "        # TODO: Implement me\n",
    "        pass"
   ]
  },
  {
   "cell_type": "markdown",
   "metadata": {},
   "source": [
    "## Unit Test\n",
    "\n",
    "**The following unit test is expected to fail until you solve the challenge.**"
   ]
  },
  {
   "cell_type": "code",
   "execution_count": null,
   "metadata": {},
   "outputs": [],
   "source": [
    "# %Load test_non_repeated_char.py\n",
    "import unittest\n",
    "\n",
    "class TestNonRepeatedChar(unittest.TestCase):\n",
    "    def test_non_repeated_char(self, func):\n",
    "        self.assertEqual(func(None), '')\n",
    "        self.assertEqual(func('a'), 'a')\n",
    "        self.assertEqual(func('absfasxv'), 'b')\n",
    "        self.assertEqual(func(''), '')\n",
    "        print('Success: test_non_repeated_char')\n",
    "\n",
    "def main():\n",
    "    test = TestNonRepeatedChar()\n",
    "    non_repeated_char = NonRepeatedChar()\n",
    "    test.test_non_repeated_char(non_repeated_char.non_repeated_char)\n",
    "\n",
    "\n",
    "if __name__ == '__main__':\n",
    "    main()"
   ]
  },
  {
   "cell_type": "markdown",
   "metadata": {},
   "source": [
    "## Solution Notebook\n",
    "\n",
    "Review the [Solution Notebook](https://github.com) for a discussion on algorithms and code solutions."
   ]
  }
 ],
 "metadata": {
  "kernelspec": {
   "display_name": "Python 3",
   "language": "python",
   "name": "python3"
  },
  "language_info": {
   "codemirror_mode": {
    "name": "ipython",
    "version": 3
   },
   "file_extension": ".py",
   "mimetype": "text/x-python",
   "name": "python",
   "nbconvert_exporter": "python",
   "pygments_lexer": "ipython3",
   "version": "3.12.1"
  }
 },
 "nbformat": 4,
 "nbformat_minor": 2
}
